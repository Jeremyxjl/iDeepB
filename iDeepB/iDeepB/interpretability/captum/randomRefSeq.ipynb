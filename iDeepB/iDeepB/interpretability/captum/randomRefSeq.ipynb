{
 "cells": [
  {
   "cell_type": "code",
   "execution_count": 11,
   "metadata": {},
   "outputs": [],
   "source": [
    "import unittest\n",
    "from deeplift.dinuc_shuffle import dinuc_shuffle\n",
    "from itertools import permutations\n",
    "from collections import defaultdict\n",
    "import random\n",
    "\n",
    "def dinuc_count(seq):\n",
    "    count = defaultdict(lambda: 0) \n",
    "    for i in range(len(seq)-2):\n",
    "        count[seq[i:i+2]] += 1\n",
    "    return count\n",
    "\n",
    "class TestDinucShuffle(unittest.TestCase):\n",
    "\n",
    "    def test_dinuc_shuffle(self):\n",
    "        for i in range(1000):\n",
    "            random_sequence = \"\".join([['A','C','G','T'][int(random.random()*4)]\n",
    "                                    for i in range(200)])\n",
    "            shuffled_seq = dinuc_shuffle(random_sequence)\n",
    "            print(\"sequences\")\n",
    "            print(random_sequence)\n",
    "            print(shuffled_seq)\n",
    "            orig_count = dinuc_count(random_sequence)\n",
    "            shuffled_count = dinuc_count(shuffled_seq)\n",
    "            print(\"counts\")\n",
    "            print(orig_count)\n",
    "            print(shuffled_count)\n",
    "            assert len(orig_count.keys())==len(shuffled_count.keys())\n",
    "            for key in orig_count:\n",
    "                assert orig_count[key]==shuffled_count[key]\n"
   ]
  },
  {
   "cell_type": "code",
   "execution_count": 2,
   "metadata": {},
   "outputs": [
    {
     "name": "stdout",
     "output_type": "stream",
     "text": [
      "sequences\n",
      "TTTCTAGTGATGTCACGGGTACGTCAGCCTGGGTAAGGGGACCGCCGGTCAGGGGTGGGCTCAGATCTTGAAATTACGGAGACCGATCATCGGATGTAGCCTGATAGTGACGACTAAATCGAGTCTCGGGGATGGACCTCCCGTTCGGCGCTACACGCCCCAGGTCAAATCTTGGCAATAACCCTCAATTAGGACTGATG\n",
      "TACCTCCATAACCACATTCGGGTAGGCCATCGGTACCGTGAGCGGAACCCTCAGTCGGTGGGTCCTTCGTTGGAATCAGAGTGGTGGCTGAGGATAGACTACGCGCCTCAAGCTTATCTGACCGGTGAAAGAAGATCGATTCGCTATCCCCGGCTGGTTCGATTCACTGGAGGGTACGGGGACATCAACTAAATGGGATG\n",
      "counts\n",
      "defaultdict(<function dinuc_count.<locals>.<lambda> at 0x7f2c78075af0>, {'TT': 7, 'TC': 16, 'CT': 12, 'TA': 10, 'AG': 11, 'GT': 12, 'TG': 11, 'GA': 16, 'AT': 13, 'CA': 10, 'AC': 12, 'CG': 14, 'GG': 23, 'GC': 8, 'CC': 13, 'AA': 10})\n",
      "defaultdict(<function dinuc_count.<locals>.<lambda> at 0x7f2c53ac7550>, {'TA': 10, 'AC': 12, 'CC': 13, 'CT': 12, 'TC': 16, 'CA': 10, 'AT': 13, 'AA': 10, 'TT': 7, 'CG': 14, 'GG': 23, 'GT': 12, 'AG': 11, 'GC': 8, 'TG': 11, 'GA': 16})\n"
     ]
    }
   ],
   "source": [
    "\n",
    "random_sequence = \"\".join([['A','C','G','T'][int(random.random()*4)]\n",
    "                        for i in range(200)])\n",
    "shuffled_seq = dinuc_shuffle(random_sequence)\n",
    "print(\"sequences\")\n",
    "print(random_sequence)\n",
    "print(shuffled_seq)\n",
    "orig_count = dinuc_count(random_sequence)\n",
    "shuffled_count = dinuc_count(shuffled_seq)\n",
    "print(\"counts\")\n",
    "print(orig_count)\n",
    "print(shuffled_count)\n",
    "assert len(orig_count.keys())==len(shuffled_count.keys())\n",
    "for key in orig_count:\n",
    "    assert orig_count[key]==shuffled_count[key]"
   ]
  },
  {
   "cell_type": "code",
   "execution_count": 7,
   "metadata": {},
   "outputs": [
    {
     "data": {
      "text/plain": [
       "'TGATTAATGCTGATCCTCCATCAGGGGCGTAGGCGGTAGGGTGC'"
      ]
     },
     "execution_count": 7,
     "metadata": {},
     "output_type": "execute_result"
    }
   ],
   "source": [
    "import random\n",
    "\n",
    "random.seed(0)\n",
    "\n",
    "# 原始序列\n",
    "sequence = \"TTTCTAGTGATGTCACGGGTACGTCAGCCTGGGTAAGGGGACCG\"\n",
    "\n",
    "# 将序列转换为列表形式，方便打乱顺序\n",
    "sequence_list = list(sequence)\n",
    "\n",
    "# 随机打乱顺序\n",
    "random.shuffle(sequence_list)\n",
    "\n",
    "# 将打乱后的列表重新组合成字符串\n",
    "shuffled_sequence = ''.join(sequence_list)\n",
    "shuffled_sequence\n"
   ]
  },
  {
   "cell_type": "code",
   "execution_count": 9,
   "metadata": {},
   "outputs": [],
   "source": [
    "def randomRefSeq(sequence, seed):\n",
    "\n",
    "    random.seed(seed)\n",
    "\n",
    "    sequence_list = list(sequence)\n",
    "\n",
    "    # 随机打乱顺序\n",
    "    random.shuffle(sequence_list)\n",
    "\n",
    "    # 将打乱后的列表重新组合成字符串\n",
    "    shuffled_sequence = ''.join(sequence_list)\n",
    "\n",
    "    return shuffled_sequence\n"
   ]
  },
  {
   "cell_type": "code",
   "execution_count": 17,
   "metadata": {},
   "outputs": [
    {
     "data": {
      "text/plain": [
       "(Counter({'G': 16, 'T': 11, 'C': 9, 'A': 8}),\n",
       " Counter({'G': 16, 'T': 11, 'C': 9, 'A': 8}),\n",
       " Counter({'G': 16, 'T': 11, 'C': 9, 'A': 8}))"
      ]
     },
     "execution_count": 17,
     "metadata": {},
     "output_type": "execute_result"
    }
   ],
   "source": [
    "\n",
    "Counter(list(sequence)), Counter(randomRefSeq(sequence, 0)), Counter(dinuc_shuffle(sequence))"
   ]
  }
 ],
 "metadata": {
  "kernelspec": {
   "display_name": "Python 3",
   "language": "python",
   "name": "python3"
  },
  "language_info": {
   "codemirror_mode": {
    "name": "ipython",
    "version": 3
   },
   "file_extension": ".py",
   "mimetype": "text/x-python",
   "name": "python",
   "nbconvert_exporter": "python",
   "pygments_lexer": "ipython3",
   "version": "3.9.7"
  },
  "orig_nbformat": 4
 },
 "nbformat": 4,
 "nbformat_minor": 2
}
